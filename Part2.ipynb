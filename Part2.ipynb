{
 "cells": [
  {
   "cell_type": "code",
   "execution_count": 1,
   "metadata": {},
   "outputs": [],
   "source": [
    "import sqlite3"
   ]
  },
  {
   "cell_type": "code",
   "execution_count": 2,
   "metadata": {},
   "outputs": [],
   "source": [
    "utable = \"\"\" CREATE TABLE User\n",
    "(\n",
    "    id NUMBER(50),\n",
    "    name VARCHAR(50),\n",
    "    screen_name VARCHAR(50),\n",
    "    description VARCHAR(300),\n",
    "    friends_count NUMBER(20),\n",
    "    CONSTRAINT ID_PK,\n",
    "        PRIMARY KEY(id)\n",
    ");\n",
    "\"\"\""
   ]
  },
  {
   "cell_type": "code",
   "execution_count": 3,
   "metadata": {},
   "outputs": [],
   "source": [
    "#Modify your SQL table from Module 5 to include “user_id” columns \n",
    "#which will be a foreign key referencing the user table.\n",
    "table = \"\"\" CREATE TABLE Tweets\n",
    "(\n",
    "    created_at DATE,\n",
    "    id_str NUMBER(50),\n",
    "    text VARCHAR(300),\n",
    "    source VARCHAR(200),\n",
    "    in_reply_to_user_id VARCHAR(50),\n",
    "    in_reply_to_screen_name VARCHAR(50),\n",
    "    in_reply_to_status_id VARCHAR(50),\n",
    "    retweet_count NUMBER(30),\n",
    "    contributors VARCHAR(50),\n",
    "    user_id NUMBER(50),\n",
    "    CONSTRAINT TweetPK\n",
    "        PRIMARY KEY(id_str),\n",
    "    CONSTRAINT UserFK\n",
    "        FOREIGN KEY (user_id) REFERENCES User(id)\n",
    ");\n",
    "\"\"\" "
   ]
  },
  {
   "cell_type": "code",
   "execution_count": 4,
   "metadata": {},
   "outputs": [
    {
     "data": {
      "text/plain": [
       "<sqlite3.Cursor at 0x2b2aefcece0>"
      ]
     },
     "execution_count": 4,
     "metadata": {},
     "output_type": "execute_result"
    }
   ],
   "source": [
    "conn = sqlite3.connect(\"dsc450.db\")\n",
    "cursor = conn.cursor()\n",
    "cursor.execute(\"DROP TABLE IF EXISTS User\")\n",
    "cursor.execute(\"DROP TABLE IF EXISTS Tweets\")"
   ]
  },
  {
   "cell_type": "code",
   "execution_count": 5,
   "metadata": {},
   "outputs": [
    {
     "data": {
      "text/plain": [
       "<sqlite3.Cursor at 0x2b2aefcece0>"
      ]
     },
     "execution_count": 5,
     "metadata": {},
     "output_type": "execute_result"
    }
   ],
   "source": [
    "cursor.execute(table)\n",
    "cursor.execute(utable)"
   ]
  },
  {
   "cell_type": "code",
   "execution_count": 11,
   "metadata": {},
   "outputs": [],
   "source": [
    "import json\n",
    "import urllib.request as urllib\n",
    "import time"
   ]
  },
  {
   "cell_type": "code",
   "execution_count": 18,
   "metadata": {},
   "outputs": [],
   "source": [
    "webFile = urllib.urlopen(\"http://rasinsrv07.cstcis.cti.depaul.edu/CSC455/Assignment5.txt\")"
   ]
  },
  {
   "cell_type": "code",
   "execution_count": 19,
   "metadata": {},
   "outputs": [],
   "source": [
    "#some of the tweets are intentionally damaged \n",
    "#and will not parse properly. You will need to store these tweets in a separate “error” file\n",
    "allTweets = webFile.readlines()\n",
    "inFile = open(\"error.txt\",\"w\")\n",
    "for tweet in allTweets:\n",
    "    try:\n",
    "        tdict = json.loads(tweet.decode(\"utf8\"))\n",
    "        cursor.execute(\"INSERT OR IGNORE INTO Tweets VALUES (?,?,?,?,?,?,?,?,?,?);\",\n",
    "                      (tdict['created_at'],\n",
    "                       tdict['id_str'],\n",
    "                       tdict['text'],\n",
    "                       tdict['source'],\n",
    "                       tdict['in_reply_to_user_id'],\n",
    "                       tdict['in_reply_to_screen_name'],\n",
    "                       tdict['in_reply_to_status_id'],\n",
    "                       tdict['retweet_count'],\n",
    "                       tdict['contributors'],\n",
    "                       tdict['user']['id']))\n",
    "        cursor.execute(\"INSERT OR IGNORE INTO User VALUES (?,?,?,?,?);\",\n",
    "                      (tdict['user']['id'],\n",
    "                       tdict['user']['name'],\n",
    "                       tdict['user']['screen_name'],\n",
    "                       tdict['user']['description'],\n",
    "                       tdict['user']['friends_count']))\n",
    "    except ValueError:\n",
    "        inFile.write(str(tweet))"
   ]
  },
  {
   "cell_type": "code",
   "execution_count": 20,
   "metadata": {},
   "outputs": [],
   "source": [
    "userTable = cursor.execute(\"SELECT * FROM User Limit 5; \").fetchall()\n",
    "tweetTable = cursor.execute(\"SELECT * FROM Tweets Limit 5; \").fetchall()"
   ]
  },
  {
   "cell_type": "code",
   "execution_count": 21,
   "metadata": {},
   "outputs": [
    {
     "name": "stdout",
     "output_type": "stream",
     "text": [
      "SELECT * FROM User LIMIT 5; \n",
      "(367361405, 'gugusuarez', 'guadalupesuare4', None, 543)\n",
      "\n",
      "(1605442621, 'ほたる', 'htr_ruby', '黒バス/青エク/あの花/君僕/進撃/Free! etc.只今黒バス/ハイキュー!!が熱いです 詳しくはツイプロで(ฅ•ω•ฅ)', 117)\n",
      "\n",
      "(1685288690, '電話占いピュアリ', 'purely_c', '人気・口コミランキングNo.1！当たると評判の電話占い。タレントや芸能人も御用達でテレビや雑誌で話題の一流占い師が多数在籍。復縁や複雑な恋愛相談はお任せ下さい。初回最大4000円分無料！', 0)\n",
      "\n",
      "(766497559, 'Veronica', 'verodoglover', None, 89)\n",
      "\n",
      "(229690290, 'こさんつ', 'Cosan2', '(ﾟωﾟ)\\u3000東方やってます。 たまにお絵かき。\\u3000天則のことつぶやくことが多いかも\\u3000 規制用垢(@Cosantwo) 絵はじめました(24.7/4)', 610)\n",
      "\n"
     ]
    }
   ],
   "source": [
    "print(\"SELECT * FROM User LIMIT 5; \")\n",
    "for r in userTable:\n",
    "    print(str(r)+'\\n')"
   ]
  },
  {
   "cell_type": "code",
   "execution_count": 22,
   "metadata": {},
   "outputs": [
    {
     "name": "stdout",
     "output_type": "stream",
     "text": [
      "SELECT * FROM Tweets Limit 5; \n",
      "('Tue May 20 00:00:19 +0000 2014', 468541694288207874, 'la asusto a selena me dice es joda te vy a extrañar jajajajaja ni m fui pero ta vy a tener tiempo libre y todo wi', '<a href=\"https://mobile.twitter.com\" rel=\"nofollow\">Mobile Web (M2)</a>', None, None, None, 0, None, 367361405)\n",
      "\n",
      "('Tue May 20 00:00:19 +0000 2014', 468541694284017664, '【現在視聴中のアニメ】ソウルイーターノット!/僕らはみんな河合荘/メカクシティアクターズ/一週間フレンズ。/悪魔のリドル/ハイキュー!! etc…', '<a href=\"http://makebot.sh\" rel=\"nofollow\">ほたるボット</a>', None, None, None, 0, None, 1605442621)\n",
      "\n",
      "('Tue May 20 00:00:19 +0000 2014', 468541694279835649, '瑤潤 嬉陽(ようじゅん きひ)先生が待機開始しました', '<a href=\"http://admin.pure-c.jp/prog01_test3/tweet_app/twitter_sample.php\" rel=\"nofollow\">purely_c tweet app</a>', None, None, None, 0, None, 1685288690)\n",
      "\n",
      "('Tue May 20 00:00:19 +0000 2014', 468541694292402176, '10 More FREE Pampers Gifts to Grow Points! via http://t.co/3Sgq2UVq67 - We have a new Pampers Gifts ... http://t.co/DJa59HyRDi', '<a href=\"http://www.feedblitz.com/f/f.fbz?help/default#twitter\" rel=\"nofollow\">FeedBlitz</a>', None, None, None, 0, None, 766497559)\n",
      "\n",
      "('Tue May 20 00:00:19 +0000 2014', 468541694292410369, '@Tinkonsan まじで！ リアルマネー稼げるって聞いたんだけどどうなん？？効率いい？', '<a href=\"https://sites.google.com/site/tweentwitterclient/\" rel=\"nofollow\">Tween</a>', '428260826', 'Tinkonsan', '468536777804767200', 0, None, 229690290)\n",
      "\n"
     ]
    }
   ],
   "source": [
    "print(\"SELECT * FROM Tweets Limit 5; \")\n",
    "for r in tweetTable:\n",
    "    print(str(r)+'\\n')"
   ]
  },
  {
   "cell_type": "code",
   "execution_count": 24,
   "metadata": {},
   "outputs": [],
   "source": [
    "inFile.close()\n",
    "conn.commit()\n",
    "conn.close()"
   ]
  },
  {
   "cell_type": "code",
   "execution_count": null,
   "metadata": {},
   "outputs": [],
   "source": []
  }
 ],
 "metadata": {
  "kernelspec": {
   "display_name": "Python 3.7.3 64-bit ('14023': virtualenv)",
   "language": "python",
   "name": "python37364bit14023virtualenv43d760947b1c41cea019d510c4f98b52"
  },
  "language_info": {
   "codemirror_mode": {
    "name": "ipython",
    "version": 3
   },
   "file_extension": ".py",
   "mimetype": "text/x-python",
   "name": "python",
   "nbconvert_exporter": "python",
   "pygments_lexer": "ipython3",
   "version": "3.7.3"
  }
 },
 "nbformat": 4,
 "nbformat_minor": 4
}
