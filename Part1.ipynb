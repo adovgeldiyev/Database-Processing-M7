{
 "cells": [
  {
   "cell_type": "code",
   "execution_count": 1,
   "metadata": {},
   "outputs": [],
   "source": [
    "import numpy as np\n",
    "import pandas as pd\n",
    "import random"
   ]
  },
  {
   "cell_type": "code",
   "execution_count": 2,
   "metadata": {},
   "outputs": [],
   "source": [
    "def randomGen(x):\n",
    "    lst=[]\n",
    "    for i in range(x):\n",
    "        lst.append(random.randint(21,100))\n",
    "    return lst"
   ]
  },
  {
   "cell_type": "code",
   "execution_count": 3,
   "metadata": {},
   "outputs": [
    {
     "data": {
      "text/plain": [
       "[96, 48, 88, 29, 61, 77, 80]"
      ]
     },
     "execution_count": 3,
     "metadata": {},
     "output_type": "execute_result"
    }
   ],
   "source": [
    "randomGen(7)"
   ]
  },
  {
   "cell_type": "code",
   "execution_count": 12,
   "metadata": {},
   "outputs": [
    {
     "name": "stdout",
     "output_type": "stream",
     "text": [
      "List of numbers below 33: \n",
      "7     21\n",
      "9     25\n",
      "14    31\n",
      "18    22\n",
      "31    25\n",
      "34    30\n",
      "39    26\n",
      "dtype: int64\n",
      "7 numbers are below 33.\n"
     ]
    }
   ],
   "source": [
    "nums = randomGen(50)\n",
    "print(\"List of numbers below 33: \\n{}\".format(pd.Series(nums)[pd.Series(nums)<33]))\n",
    "print(\"{} numbers are below 33.\".format(len(pd.Series(nums)[pd.Series(nums)<33])))"
   ]
  },
  {
   "cell_type": "code",
   "execution_count": 13,
   "metadata": {},
   "outputs": [
    {
     "name": "stdout",
     "output_type": "stream",
     "text": [
      "Modified array 5x10: \n",
      "[[ 96  75  96  63  91  55  89  21  66  25]\n",
      " [ 96  56  91  78  31  38  69  45  22  37]\n",
      " [ 60  66 100  47  61  99  79  56  69  57]\n",
      " [ 60  25  57  95  30  46  63  53  80  26]\n",
      " [ 64  83  40  80  84  82  82  86  60  39]]\n",
      "Replaced numbers less than, equal and multiplied: \n",
      "[[4800 3750 4800 3150 4550 2750 4450   21 3300   25]\n",
      " [4800 2800 4550 3900   31   38 3450   45   22   37]\n",
      " [3000 3300 5000   47 3050 4950 3950 2800 3450 2850]\n",
      " [3000   25 2850 4750   30   46 3150 2650 4000   26]\n",
      " [3200 4150   40 4000 4200 4100 4100 4300 3000   39]]\n"
     ]
    }
   ],
   "source": [
    "numArray = np.array(pd.Series(nums))\n",
    "modified = np.reshape(numArray, (5,10))\n",
    "df = np.where(modified<50, modified, modified * 50)\n",
    "print(\"Modified array 5x10: \\n{}\".format(modified))\n",
    "print(\"Replaced numbers less than, equal and multiplied: \\n{}\".format(df))"
   ]
  },
  {
   "cell_type": "code",
   "execution_count": null,
   "metadata": {},
   "outputs": [],
   "source": []
  }
 ],
 "metadata": {
  "kernelspec": {
   "display_name": "Python 3.7.3 64-bit ('14023': virtualenv)",
   "language": "python",
   "name": "python37364bit14023virtualenv43d760947b1c41cea019d510c4f98b52"
  },
  "language_info": {
   "codemirror_mode": {
    "name": "ipython",
    "version": 3
   },
   "file_extension": ".py",
   "mimetype": "text/x-python",
   "name": "python",
   "nbconvert_exporter": "python",
   "pygments_lexer": "ipython3",
   "version": "3.7.3"
  }
 },
 "nbformat": 4,
 "nbformat_minor": 4
}
